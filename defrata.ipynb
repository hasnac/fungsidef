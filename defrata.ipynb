{
 "cells": [
  {
   "cell_type": "code",
   "execution_count": 25,
   "id": "04808812-1679-41cb-a7a5-358bb37f2969",
   "metadata": {},
   "outputs": [
    {
     "name": "stdin",
     "output_type": "stream",
     "text": [
      "Masukkan angka pertama:  7.9\n",
      "Masukkan angka kedua:  4.3\n"
     ]
    },
    {
     "name": "stdout",
     "output_type": "stream",
     "text": [
      "Rata-rata dari dua angka tersebut adalah: 6.1\n"
     ]
    }
   ],
   "source": [
    "def hitung(angka1, angka2):\n",
    "    rata_rata = (angka1 + angka2) / 2\n",
    "    return rata_rata\n",
    "\n",
    "angka1 = float(input(\"Masukkan angka pertama: \"))\n",
    "angka2 = float(input(\"Masukkan angka kedua: \"))\n",
    "\n",
    "jumlah = hitung(angka1, angka2)\n",
    "print(\"Rata-rata dari dua angka tersebut adalah:\", jumlah)"
   ]
  },
  {
   "cell_type": "code",
   "execution_count": null,
   "id": "f3b9b30b-9850-4029-a420-7e3d2b094064",
   "metadata": {},
   "outputs": [],
   "source": []
  }
 ],
 "metadata": {
  "kernelspec": {
   "display_name": "Python 3 (ipykernel)",
   "language": "python",
   "name": "python3"
  },
  "language_info": {
   "codemirror_mode": {
    "name": "ipython",
    "version": 3
   },
   "file_extension": ".py",
   "mimetype": "text/x-python",
   "name": "python",
   "nbconvert_exporter": "python",
   "pygments_lexer": "ipython3",
   "version": "3.12.4"
  }
 },
 "nbformat": 4,
 "nbformat_minor": 5
}
