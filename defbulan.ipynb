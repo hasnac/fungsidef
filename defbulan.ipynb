{
 "cells": [
  {
   "cell_type": "code",
   "execution_count": null,
   "id": "7018d485-7778-4bfa-ba62-ba2d70e3b89a",
   "metadata": {},
   "outputs": [
    {
     "name": "stdin",
     "output_type": "stream",
     "text": [
      "Bulan (1-12):  1\n"
     ]
    },
    {
     "name": "stdout",
     "output_type": "stream",
     "text": [
      "Ada 31 hari\n"
     ]
    },
    {
     "name": "stdin",
     "output_type": "stream",
     "text": [
      "Bulan (1-12):  2\n"
     ]
    }
   ],
   "source": [
    "def cek_hari_dalam_bulan():\n",
    "    while True:\n",
    "        bulan = int(input(\"Bulan (1-12): \"))\n",
    "        if bulan < 1 or bulan > 12:\n",
    "            print(\"Dadah\")\n",
    "            break\n",
    "        elif bulan in [1, 3, 5, 7, 8, 10, 12]:\n",
    "            print(\"Ada 31 hari\")\n",
    "        elif bulan in [4, 6, 9, 11]:\n",
    "            print(\"Ada 30 hari\")\n",
    "        elif bulan == 2:\n",
    "            tahun = int(input(\"Tahun: \"))\n",
    "            if (tahun % 4 == 0 and tahun % 100 != 0) or (tahun % 400 == 0):\n",
    "                print(\"Ada 29 hari\")\n",
    "            else:\n",
    "                print(\"Ada 28 hari\")\n",
    "\n",
    "cek_hari_dalam_bulan()"
   ]
  },
  {
   "cell_type": "code",
   "execution_count": null,
   "id": "39839161-da75-41d5-b9c5-a2ed214c8a71",
   "metadata": {},
   "outputs": [],
   "source": []
  }
 ],
 "metadata": {
  "kernelspec": {
   "display_name": "Python 3 (ipykernel)",
   "language": "python",
   "name": "python3"
  },
  "language_info": {
   "codemirror_mode": {
    "name": "ipython",
    "version": 3
   },
   "file_extension": ".py",
   "mimetype": "text/x-python",
   "name": "python",
   "nbconvert_exporter": "python",
   "pygments_lexer": "ipython3",
   "version": "3.12.4"
  }
 },
 "nbformat": 4,
 "nbformat_minor": 5
}
